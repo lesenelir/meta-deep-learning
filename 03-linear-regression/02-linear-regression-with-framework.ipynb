{
 "cells": [
  {
   "cell_type": "markdown",
   "metadata": {
    "collapsed": true
   },
   "source": [
    "### 使用深度学习框架 torch 来实现 线性回归模型"
   ]
  },
  {
   "cell_type": "code",
   "execution_count": 13,
   "metadata": {},
   "outputs": [],
   "source": [
    "import numpy as np\n",
    "import torch\n",
    "from torch.utils import data\n",
    "from d2l import torch as d2l"
   ]
  },
  {
   "cell_type": "markdown",
   "metadata": {},
   "source": [
    "### 生成数据集"
   ]
  },
  {
   "cell_type": "code",
   "execution_count": 14,
   "metadata": {},
   "outputs": [
    {
     "data": {
      "text/plain": [
       "(tensor([[ 0.1591, -0.5336],\n",
       "         [-0.5213, -0.0229],\n",
       "         [ 0.4987,  0.5379],\n",
       "         ...,\n",
       "         [-0.0769, -0.9922],\n",
       "         [ 1.3177,  2.0280],\n",
       "         [ 0.0570,  0.1006]]),\n",
       " tensor([6.3254]))"
      ]
     },
     "execution_count": 14,
     "metadata": {},
     "output_type": "execute_result"
    }
   ],
   "source": [
    "# 生成真实数据集\n",
    "true_w = torch.tensor([2, -3.4]) # 真实w\n",
    "true_b = 4.2                     # 真实b\n",
    "features, labels = d2l.synthetic_data(true_w, true_b, 1000)\n",
    "features, labels[0]"
   ]
  },
  {
   "cell_type": "markdown",
   "metadata": {},
   "source": [
    "### 读取数据"
   ]
  },
  {
   "cell_type": "code",
   "execution_count": 20,
   "metadata": {},
   "outputs": [
    {
     "data": {
      "text/plain": [
       "[tensor([[ 0.4920, -0.3733],\n",
       "         [-0.2853,  0.3326],\n",
       "         [-1.2259, -1.3245],\n",
       "         [-0.3651,  0.2436],\n",
       "         [-0.5251, -2.0397],\n",
       "         [ 0.7511,  0.1285],\n",
       "         [ 0.7728,  0.6192],\n",
       "         [ 0.4369,  1.8632],\n",
       "         [-0.5188,  0.0574],\n",
       "         [-0.9748, -0.3369]]),\n",
       " tensor([[ 6.4440],\n",
       "         [ 2.5130],\n",
       "         [ 6.2304],\n",
       "         [ 2.6365],\n",
       "         [10.0973],\n",
       "         [ 5.2790],\n",
       "         [ 3.6416],\n",
       "         [-1.2552],\n",
       "         [ 2.9510],\n",
       "         [ 3.3895]])]"
      ]
     },
     "execution_count": 20,
     "metadata": {},
     "output_type": "execute_result"
    }
   ],
   "source": [
    "# 将features 和 labels 作为API的参数传递，指定batch size\n",
    "# 布尔值is_train表示是否希望数据迭代器对象在每个迭代周期内打乱数据\n",
    "def load_array(data_arrays, batch_size, is_train=True):\n",
    "    \"\"\"构造一个PyTorch数据迭代器\"\"\"\n",
    "    dataset = data.TensorDataset(*data_arrays)\n",
    "    return data.DataLoader(dataset, batch_size, shuffle=is_train)\n",
    "\n",
    "batch_size = 10\n",
    "data_iter = load_array((features, labels), batch_size)\n",
    "\n",
    "next(iter(data_iter)) # next从迭代器中获取第一项"
   ]
  },
  {
   "cell_type": "markdown",
   "metadata": {},
   "source": [
    "### 模型的定义"
   ]
  },
  {
   "cell_type": "code",
   "execution_count": 7,
   "metadata": {},
   "outputs": [],
   "source": [
    "# nn 是 neural network\n",
    "from torch import nn\n",
    "\n",
    "net = nn.Sequential(nn.Linear(2, 1)) # 输入的维度是2，输出的维度是1"
   ]
  },
  {
   "cell_type": "markdown",
   "metadata": {},
   "source": [
    "### 初始化模型参数"
   ]
  },
  {
   "cell_type": "code",
   "execution_count": 8,
   "metadata": {},
   "outputs": [
    {
     "data": {
      "text/plain": [
       "tensor([0.])"
      ]
     },
     "execution_count": 8,
     "metadata": {},
     "output_type": "execute_result"
    }
   ],
   "source": [
    "# net 只有一层 layer\n",
    "\n",
    "net[0].weight.data.normal_(0, 0.01)\n",
    "net[0].bias.data.fill_(0)"
   ]
  },
  {
   "cell_type": "markdown",
   "metadata": {},
   "source": [
    "### 定义损失函数"
   ]
  },
  {
   "cell_type": "code",
   "execution_count": 9,
   "metadata": {},
   "outputs": [],
   "source": [
    "# 均方误差 是 MSELoss\n",
    "# 平方\n",
    "loss = nn.MSELoss()"
   ]
  },
  {
   "cell_type": "markdown",
   "metadata": {},
   "source": [
    "### 定义梯度下降的优化算法：SGD"
   ]
  },
  {
   "cell_type": "code",
   "execution_count": 11,
   "metadata": {},
   "outputs": [],
   "source": [
    "# 随机梯度下降法\n",
    "trainer = torch.optim.SGD(net.parameters(), lr=0.03)"
   ]
  },
  {
   "cell_type": "markdown",
   "metadata": {},
   "source": [
    "### 训练过程"
   ]
  },
  {
   "cell_type": "code",
   "execution_count": 12,
   "metadata": {},
   "outputs": [
    {
     "name": "stdout",
     "output_type": "stream",
     "text": [
      "epoch 1, loss 0.000168\n",
      "epoch 2, loss 0.000102\n",
      "epoch 3, loss 0.000101\n"
     ]
    }
   ],
   "source": [
    "num_epochs = 3\n",
    "for epoch in range(num_epochs):\n",
    "    # 每一个迭代周期，遍历完一遍所有的train_data\n",
    "    for X, y in data_iter: # 数据\n",
    "        l = loss(net(X) ,y) # net(X)预测值， 真实值y，计算损失l\n",
    "        trainer.zero_grad() # 优化器梯度清零\n",
    "        l.backward() # 计算 反向传播计算梯度\n",
    "        trainer.step() # 调用优化器，模型的一次更新 SGD\n",
    "    l = loss(net(features), labels) # 扫完一遍数据之后，将loss计算一次并打印\n",
    "    print(f'epoch {epoch + 1}, loss {l:f}')"
   ]
  }
 ],
 "metadata": {
  "kernelspec": {
   "display_name": "Python 3 (ipykernel)",
   "language": "python",
   "name": "python3"
  },
  "language_info": {
   "codemirror_mode": {
    "name": "ipython",
    "version": 3
   },
   "file_extension": ".py",
   "mimetype": "text/x-python",
   "name": "python",
   "nbconvert_exporter": "python",
   "pygments_lexer": "ipython3",
   "version": "3.8.13"
  }
 },
 "nbformat": 4,
 "nbformat_minor": 1
}
